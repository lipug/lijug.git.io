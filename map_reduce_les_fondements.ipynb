{
  "nbformat": 4,
  "nbformat_minor": 0,
  "metadata": {
    "colab": {
      "name": "map_reduce_les_fondements.ipynb",
      "provenance": [],
      "toc_visible": true,
      "authorship_tag": "ABX9TyPRMHxS4eXKd+N+sPwoWTYL",
      "include_colab_link": true
    },
    "kernelspec": {
      "name": "python3",
      "display_name": "Python 3"
    }
  },
  "cells": [
    {
      "cell_type": "markdown",
      "metadata": {
        "id": "view-in-github",
        "colab_type": "text"
      },
      "source": [
        "<a href=\"https://colab.research.google.com/github/lipug/lipug.github.io/blob/main/map_reduce_les_fondements.ipynb\" target=\"_parent\"><img src=\"https://colab.research.google.com/assets/colab-badge.svg\" alt=\"Open In Colab\"/></a>"
      ]
    },
    {
      "cell_type": "markdown",
      "metadata": {
        "id": "7Ej697yojGbk"
      },
      "source": [
        "# Les fondements filter-map-reduce\r\n",
        "\r\n",
        "Le flots est le suivant\r\n",
        "\r\n",
        "Source de donnée N => filtrer n => map (transformer) n => reduce 1\r\n",
        "\r\n",
        "Pour expliquer quelques concepts, commencons par la notion de fonctions, et de fonctions de second ordre (parémetres et résultats pouvant eux m^me être des fonctions)\r\n",
        "\r\n",
        "pour être certain de n'utiliser que des fonctions (*au sens mathématique*), nous définirons les fonctions avec les lambda expression. \r\n",
        "\r\n",
        "**Syntaxe :** pour être rapide la fonction $f(x) = 2*x$ s'écrit en lambda calcul par $\\lambda x: 2*x$ \r\n",
        "\r\n",
        "le lambda parmet de spécifier les abstractions (x jout un rôle différents des autres caractères dans la syntaxe)\r\n",
        "\r\n",
        "**Inférence:** On applique à une lambda expression une autre lambda expression on la note u v c'est une application, l;à encore pour être rapide si u est une lambda expression $\\lambda x: 2*x$  et v la lambda expression $4$ par exemple ojn à alors $(\\lambda x: 2*x)(4) \\rightarrow [2*x]^4_x \\rightarrow 2*4$\r\n",
        "\r\n"
      ]
    },
    {
      "cell_type": "code",
      "metadata": {
        "id": "MCgDq5ovPrmM"
      },
      "source": [
        "# exemple et syntaxe en Python\r\n",
        "lambda x: x+1"
      ],
      "execution_count": null,
      "outputs": []
    },
    {
      "cell_type": "code",
      "metadata": {
        "id": "ogRKc1hzPyv8"
      },
      "source": [
        "(lambda x: x+1)(4)"
      ],
      "execution_count": null,
      "outputs": []
    },
    {
      "cell_type": "code",
      "metadata": {
        "id": "imXMEtXxP3EF"
      },
      "source": [
        "# on peut nommer les lambda\r\n",
        "inc = lambda x: x+1"
      ],
      "execution_count": null,
      "outputs": []
    },
    {
      "cell_type": "code",
      "metadata": {
        "id": "DU3io5XFP_vf"
      },
      "source": [
        "# les paramétre sont d'ordre supérieur (on peut les utiliser du coté droit)\r\n",
        "applique = lambda f: f(10)"
      ],
      "execution_count": null,
      "outputs": []
    },
    {
      "cell_type": "code",
      "metadata": {
        "id": "4mGnfkGwQLKG"
      },
      "source": [
        "# donc que donne applique(inc)?\r\n",
        "applique(inc)"
      ],
      "execution_count": null,
      "outputs": []
    },
    {
      "cell_type": "code",
      "metadata": {
        "id": "mKdXVqXER5_k"
      },
      "source": [
        "# soit la fonction\r\n",
        "plus_lambda = lambda x: lambda y: x+y"
      ],
      "execution_count": null,
      "outputs": []
    },
    {
      "cell_type": "code",
      "metadata": {
        "id": "M0Z2k9TuSBAF"
      },
      "source": [
        "# plus_lambda(10) -> lambda y: 10+y le résultat est une fonction\r\n",
        "plus_lambda(10)"
      ],
      "execution_count": null,
      "outputs": []
    },
    {
      "cell_type": "code",
      "metadata": {
        "id": "rvtVwrbqSQEU"
      },
      "source": [
        "plus10 = plus_lambda(10)\r\n",
        "plus10(20)"
      ],
      "execution_count": null,
      "outputs": []
    },
    {
      "cell_type": "markdown",
      "metadata": {
        "id": "RezkiJmxzCTB"
      },
      "source": [
        "# filter et map"
      ]
    },
    {
      "cell_type": "code",
      "metadata": {
        "id": "_ib5EFFQSbK4"
      },
      "source": [
        "# filter un ensemble de donnée\r\n",
        "filter(lambda x: x>10, [1, 10, 100, -5, 102, 800, 2])"
      ],
      "execution_count": null,
      "outputs": []
    },
    {
      "cell_type": "markdown",
      "metadata": {
        "id": "eYy_MFdqSumd"
      },
      "source": [
        "### Evaluation lazy : préparation du calcul sans réaliser le calcul"
      ]
    },
    {
      "cell_type": "code",
      "metadata": {
        "id": "Ti5UxzwESt6W"
      },
      "source": [
        "resfilter = filter(lambda x: x>10, [1, 10, 100, -5, 102, 800, 2])\r\n",
        "next(resfilter)"
      ],
      "execution_count": null,
      "outputs": []
    },
    {
      "cell_type": "code",
      "metadata": {
        "id": "rw6fAopoS-Pr"
      },
      "source": [
        "next(resfilter)"
      ],
      "execution_count": null,
      "outputs": []
    },
    {
      "cell_type": "markdown",
      "metadata": {
        "id": "5lFPs3mSTA7W"
      },
      "source": [
        "etc..."
      ]
    },
    {
      "cell_type": "code",
      "metadata": {
        "id": "jkgRTLGDSqvd"
      },
      "source": [
        "list(filter(lambda x: x>10, [1, 10, 100, -5, 102, 800, 2]))"
      ],
      "execution_count": null,
      "outputs": []
    },
    {
      "cell_type": "markdown",
      "metadata": {
        "id": "9NeCeyYpTPhH"
      },
      "source": [
        "Les evaluations lazy sont essentiel dans un contexte de Big Data"
      ]
    },
    {
      "cell_type": "code",
      "metadata": {
        "id": "BssgB9geTUMt"
      },
      "source": [
        "def impaire():\r\n",
        "  x=1\r\n",
        "  while True:\r\n",
        "    yield x\r\n",
        "    x = x + 2\r\n"
      ],
      "execution_count": null,
      "outputs": []
    },
    {
      "cell_type": "code",
      "metadata": {
        "id": "sUqOP6d3TkO1"
      },
      "source": [
        "i = impaire()\r\n",
        "i"
      ],
      "execution_count": null,
      "outputs": []
    },
    {
      "cell_type": "code",
      "metadata": {
        "id": "-dbaKqXVTnPn"
      },
      "source": [
        "next(i)"
      ],
      "execution_count": null,
      "outputs": []
    },
    {
      "cell_type": "markdown",
      "metadata": {
        "id": "usBORSuGaA6_"
      },
      "source": [
        "l=[[1, 2], [3, 4], [5,6]\r\n",
        "[y for x in l for y in x]"
      ]
    },
    {
      "cell_type": "code",
      "metadata": {
        "id": "9fcFSgQGkPx1"
      },
      "source": [
        "l=[[1, 2], [3, 4], [5,6]]\r\n",
        "[y for x in l for y in x]"
      ],
      "execution_count": null,
      "outputs": []
    },
    {
      "cell_type": "code",
      "metadata": {
        "id": "OQ96kfCWkfrS"
      },
      "source": [
        "from functools import reduce\r\n",
        "reduce(lambda x,y:x+y, l)\r\n"
      ],
      "execution_count": null,
      "outputs": []
    },
    {
      "cell_type": "markdown",
      "metadata": {
        "id": "8cURLcCty81t"
      },
      "source": [
        "# itertools\r\n",
        "\r\n"
      ]
    },
    {
      "cell_type": "markdown",
      "metadata": {
        "id": "vcXMfopDy_sI"
      },
      "source": [
        "#functools"
      ]
    },
    {
      "cell_type": "code",
      "metadata": {
        "colab": {
          "base_uri": "https://localhost:8080/"
        },
        "id": "gq3z910QzBWi",
        "outputId": "b8dab44a-890e-40af-de35-aa4a092e318f"
      },
      "source": [
        "with open('/content/sample_data/README.md', 'r') as f:\r\n",
        "  text = f.read()\r\n",
        "\r\n",
        "print(text)"
      ],
      "execution_count": null,
      "outputs": [
        {
          "output_type": "stream",
          "text": [
            "This directory includes a few sample datasets to get you started.\n",
            "\n",
            "*   `california_housing_data*.csv` is California housing data from the 1990 US\n",
            "    Census; more information is available at:\n",
            "    https://developers.google.com/machine-learning/crash-course/california-housing-data-description\n",
            "\n",
            "*   `mnist_*.csv` is a small sample of the\n",
            "    [MNIST database](https://en.wikipedia.org/wiki/MNIST_database), which is\n",
            "    described at: http://yann.lecun.com/exdb/mnist/\n",
            "\n",
            "*   `anscombe.json` contains a copy of\n",
            "    [Anscombe's quartet](https://en.wikipedia.org/wiki/Anscombe%27s_quartet); it\n",
            "    was originally described in\n",
            "\n",
            "    Anscombe, F. J. (1973). 'Graphs in Statistical Analysis'. American\n",
            "    Statistician. 27 (1): 17-21. JSTOR 2682899.\n",
            "\n",
            "    and our copy was prepared by the\n",
            "    [vega_datasets library](https://github.com/altair-viz/vega_datasets/blob/4f67bdaad10f45e3549984e17e1b3088c731503d/vega_datasets/_data/anscombe.json).\n",
            "\n"
          ],
          "name": "stdout"
        }
      ]
    },
    {
      "cell_type": "code",
      "metadata": {
        "id": "cQ3FwOjQAMv4"
      },
      "source": [
        "text = ''' Un petit texte simple avec des mots\r\n",
        "qui se répetent. Un mot de plus, un mot de moins, c'est bien plus et c'est bien moins'\r\n",
        "Ce texte n'est pas si petit finalement. '''"
      ],
      "execution_count": null,
      "outputs": []
    },
    {
      "cell_type": "code",
      "metadata": {
        "id": "B92DIebSClXZ"
      },
      "source": [
        "text = 'un un un deux deux deux tois tois toi toi roi roi un un'"
      ],
      "execution_count": null,
      "outputs": []
    },
    {
      "cell_type": "code",
      "metadata": {
        "id": "ACmUXPFpy-th"
      },
      "source": [
        "lignes = text.split('\\n')"
      ],
      "execution_count": null,
      "outputs": []
    },
    {
      "cell_type": "code",
      "metadata": {
        "id": "XizdQ4FF2AgU"
      },
      "source": [
        "import itertools\r\n",
        "lignes_non_vide = list(filter(lambda s: s, lignes))\r\n",
        "lignes_non_vide"
      ],
      "execution_count": null,
      "outputs": []
    },
    {
      "cell_type": "code",
      "metadata": {
        "id": "f0N_Yc2to9Jb"
      },
      "source": [
        "lignes_non_vide1 = [s for s in lignes if s]"
      ],
      "execution_count": null,
      "outputs": []
    },
    {
      "cell_type": "code",
      "metadata": {
        "id": "p9MQP0yHiqnv"
      },
      "source": [
        "import re\r\n",
        "mots_par_ligne = list(map(lambda l: re.split(r'[-,\\s,(,),;,/,\\,.,*,_,\\\\]\\s*',l), lignes_non_vide))\r\n",
        "mots_par_ligne"
      ],
      "execution_count": null,
      "outputs": []
    },
    {
      "cell_type": "code",
      "metadata": {
        "colab": {
          "base_uri": "https://localhost:8080/"
        },
        "id": "9AQ0zyk9pLb3",
        "outputId": "33efa1fc-dbc4-4105-bb94-c620f316401c"
      },
      "source": [
        "mots_par_ligne1 = [re.split(r'[-,\\s,(,),;,/,\\,.,*,_,\\\\]\\s*',l) for l in lignes]\r\n",
        "mots_par_ligne1"
      ],
      "execution_count": null,
      "outputs": [
        {
          "output_type": "execute_result",
          "data": {
            "text/plain": [
              "[['This',\n",
              "  'directory',\n",
              "  'includes',\n",
              "  'a',\n",
              "  'few',\n",
              "  'sample',\n",
              "  'datasets',\n",
              "  'to',\n",
              "  'get',\n",
              "  'you',\n",
              "  'started',\n",
              "  ''],\n",
              " [''],\n",
              " ['',\n",
              "  '`california',\n",
              "  'housing',\n",
              "  'data',\n",
              "  '',\n",
              "  'csv`',\n",
              "  'is',\n",
              "  'California',\n",
              "  'housing',\n",
              "  'data',\n",
              "  'from',\n",
              "  'the',\n",
              "  '1990',\n",
              "  'US'],\n",
              " ['', 'Census', 'more', 'information', 'is', 'available', 'at:'],\n",
              " ['',\n",
              "  'https:',\n",
              "  '',\n",
              "  'developers',\n",
              "  'google',\n",
              "  'com',\n",
              "  'machine',\n",
              "  'learning',\n",
              "  'crash',\n",
              "  'course',\n",
              "  'california',\n",
              "  'housing',\n",
              "  'data',\n",
              "  'description'],\n",
              " [''],\n",
              " ['', '`mnist', '', '', 'csv`', 'is', 'a', 'small', 'sample', 'of', 'the'],\n",
              " ['',\n",
              "  '[MNIST',\n",
              "  'database]',\n",
              "  'https:',\n",
              "  '',\n",
              "  'en',\n",
              "  'wikipedia',\n",
              "  'org',\n",
              "  'wiki',\n",
              "  'MNIST',\n",
              "  'database',\n",
              "  '',\n",
              "  'which',\n",
              "  'is'],\n",
              " ['',\n",
              "  'described',\n",
              "  'at:',\n",
              "  'http:',\n",
              "  '',\n",
              "  'yann',\n",
              "  'lecun',\n",
              "  'com',\n",
              "  'exdb',\n",
              "  'mnist',\n",
              "  ''],\n",
              " [''],\n",
              " ['', '`anscombe', 'json`', 'contains', 'a', 'copy', 'of'],\n",
              " ['',\n",
              "  \"[Anscombe's\",\n",
              "  'quartet]',\n",
              "  'https:',\n",
              "  '',\n",
              "  'en',\n",
              "  'wikipedia',\n",
              "  'org',\n",
              "  'wiki',\n",
              "  'Anscombe%27s',\n",
              "  'quartet',\n",
              "  '',\n",
              "  'it'],\n",
              " ['', 'was', 'originally', 'described', 'in'],\n",
              " [''],\n",
              " ['',\n",
              "  'Anscombe',\n",
              "  'F',\n",
              "  'J',\n",
              "  '',\n",
              "  '1973',\n",
              "  '',\n",
              "  \"'Graphs\",\n",
              "  'in',\n",
              "  'Statistical',\n",
              "  \"Analysis'\",\n",
              "  'American'],\n",
              " ['', 'Statistician', '27', '', '1', ':', '17', '21', 'JSTOR', '2682899', ''],\n",
              " [''],\n",
              " ['', 'and', 'our', 'copy', 'was', 'prepared', 'by', 'the'],\n",
              " ['',\n",
              "  '[vega',\n",
              "  'datasets',\n",
              "  'library]',\n",
              "  'https:',\n",
              "  '',\n",
              "  'github',\n",
              "  'com',\n",
              "  'altair',\n",
              "  'viz',\n",
              "  'vega',\n",
              "  'datasets',\n",
              "  'blob',\n",
              "  '4f67bdaad10f45e3549984e17e1b3088c731503d',\n",
              "  'vega',\n",
              "  'datasets',\n",
              "  '',\n",
              "  'data',\n",
              "  'anscombe',\n",
              "  'json',\n",
              "  '',\n",
              "  ''],\n",
              " ['']]"
            ]
          },
          "metadata": {
            "tags": []
          },
          "execution_count": 214
        }
      ]
    },
    {
      "cell_type": "code",
      "metadata": {
        "id": "DJODvYzl4lKb"
      },
      "source": [
        "mots = list(itertools.chain.from_iterable(mots_par_ligne))\r\n",
        "mots"
      ],
      "execution_count": null,
      "outputs": []
    },
    {
      "cell_type": "code",
      "metadata": {
        "colab": {
          "base_uri": "https://localhost:8080/"
        },
        "id": "9XSqkhI-pcWp",
        "outputId": "17d1183a-c576-4881-f294-36823e8cbbd6"
      },
      "source": [
        "mots1= [m for l in mots_par_ligne1 for m in l if m]\r\n",
        "mots1"
      ],
      "execution_count": null,
      "outputs": [
        {
          "output_type": "execute_result",
          "data": {
            "text/plain": [
              "['This',\n",
              " 'directory',\n",
              " 'includes',\n",
              " 'a',\n",
              " 'few',\n",
              " 'sample',\n",
              " 'datasets',\n",
              " 'to',\n",
              " 'get',\n",
              " 'you',\n",
              " 'started',\n",
              " '`california',\n",
              " 'housing',\n",
              " 'data',\n",
              " 'csv`',\n",
              " 'is',\n",
              " 'California',\n",
              " 'housing',\n",
              " 'data',\n",
              " 'from',\n",
              " 'the',\n",
              " '1990',\n",
              " 'US',\n",
              " 'Census',\n",
              " 'more',\n",
              " 'information',\n",
              " 'is',\n",
              " 'available',\n",
              " 'at:',\n",
              " 'https:',\n",
              " 'developers',\n",
              " 'google',\n",
              " 'com',\n",
              " 'machine',\n",
              " 'learning',\n",
              " 'crash',\n",
              " 'course',\n",
              " 'california',\n",
              " 'housing',\n",
              " 'data',\n",
              " 'description',\n",
              " '`mnist',\n",
              " 'csv`',\n",
              " 'is',\n",
              " 'a',\n",
              " 'small',\n",
              " 'sample',\n",
              " 'of',\n",
              " 'the',\n",
              " '[MNIST',\n",
              " 'database]',\n",
              " 'https:',\n",
              " 'en',\n",
              " 'wikipedia',\n",
              " 'org',\n",
              " 'wiki',\n",
              " 'MNIST',\n",
              " 'database',\n",
              " 'which',\n",
              " 'is',\n",
              " 'described',\n",
              " 'at:',\n",
              " 'http:',\n",
              " 'yann',\n",
              " 'lecun',\n",
              " 'com',\n",
              " 'exdb',\n",
              " 'mnist',\n",
              " '`anscombe',\n",
              " 'json`',\n",
              " 'contains',\n",
              " 'a',\n",
              " 'copy',\n",
              " 'of',\n",
              " \"[Anscombe's\",\n",
              " 'quartet]',\n",
              " 'https:',\n",
              " 'en',\n",
              " 'wikipedia',\n",
              " 'org',\n",
              " 'wiki',\n",
              " 'Anscombe%27s',\n",
              " 'quartet',\n",
              " 'it',\n",
              " 'was',\n",
              " 'originally',\n",
              " 'described',\n",
              " 'in',\n",
              " 'Anscombe',\n",
              " 'F',\n",
              " 'J',\n",
              " '1973',\n",
              " \"'Graphs\",\n",
              " 'in',\n",
              " 'Statistical',\n",
              " \"Analysis'\",\n",
              " 'American',\n",
              " 'Statistician',\n",
              " '27',\n",
              " '1',\n",
              " ':',\n",
              " '17',\n",
              " '21',\n",
              " 'JSTOR',\n",
              " '2682899',\n",
              " 'and',\n",
              " 'our',\n",
              " 'copy',\n",
              " 'was',\n",
              " 'prepared',\n",
              " 'by',\n",
              " 'the',\n",
              " '[vega',\n",
              " 'datasets',\n",
              " 'library]',\n",
              " 'https:',\n",
              " 'github',\n",
              " 'com',\n",
              " 'altair',\n",
              " 'viz',\n",
              " 'vega',\n",
              " 'datasets',\n",
              " 'blob',\n",
              " '4f67bdaad10f45e3549984e17e1b3088c731503d',\n",
              " 'vega',\n",
              " 'datasets',\n",
              " 'data',\n",
              " 'anscombe',\n",
              " 'json']"
            ]
          },
          "metadata": {
            "tags": []
          },
          "execution_count": 215
        }
      ]
    },
    {
      "cell_type": "code",
      "metadata": {
        "id": "7aACVEm-7BKC"
      },
      "source": [
        "mots_non_vide = list(filter(lambda s: s, mots))\r\n",
        "mots_non_vide"
      ],
      "execution_count": null,
      "outputs": []
    },
    {
      "cell_type": "code",
      "metadata": {
        "id": "EBuahaH-9knT"
      },
      "source": [
        "cle_nombre = list(map(lambda m: (m,1), mots_non_vide))\r\n",
        "cle_nombre"
      ],
      "execution_count": null,
      "outputs": []
    },
    {
      "cell_type": "code",
      "metadata": {
        "colab": {
          "base_uri": "https://localhost:8080/"
        },
        "id": "FfjrrgZ7p1O2",
        "outputId": "1d9a474e-a52c-4723-fea5-4c2205119fe8"
      },
      "source": [
        "cle_nombre1 = [(m,1) for m in mots1]\r\n",
        "cle_nombre1"
      ],
      "execution_count": null,
      "outputs": [
        {
          "output_type": "execute_result",
          "data": {
            "text/plain": [
              "[('This', 1),\n",
              " ('directory', 1),\n",
              " ('includes', 1),\n",
              " ('a', 1),\n",
              " ('few', 1),\n",
              " ('sample', 1),\n",
              " ('datasets', 1),\n",
              " ('to', 1),\n",
              " ('get', 1),\n",
              " ('you', 1),\n",
              " ('started', 1),\n",
              " ('`california', 1),\n",
              " ('housing', 1),\n",
              " ('data', 1),\n",
              " ('csv`', 1),\n",
              " ('is', 1),\n",
              " ('California', 1),\n",
              " ('housing', 1),\n",
              " ('data', 1),\n",
              " ('from', 1),\n",
              " ('the', 1),\n",
              " ('1990', 1),\n",
              " ('US', 1),\n",
              " ('Census', 1),\n",
              " ('more', 1),\n",
              " ('information', 1),\n",
              " ('is', 1),\n",
              " ('available', 1),\n",
              " ('at:', 1),\n",
              " ('https:', 1),\n",
              " ('developers', 1),\n",
              " ('google', 1),\n",
              " ('com', 1),\n",
              " ('machine', 1),\n",
              " ('learning', 1),\n",
              " ('crash', 1),\n",
              " ('course', 1),\n",
              " ('california', 1),\n",
              " ('housing', 1),\n",
              " ('data', 1),\n",
              " ('description', 1),\n",
              " ('`mnist', 1),\n",
              " ('csv`', 1),\n",
              " ('is', 1),\n",
              " ('a', 1),\n",
              " ('small', 1),\n",
              " ('sample', 1),\n",
              " ('of', 1),\n",
              " ('the', 1),\n",
              " ('[MNIST', 1),\n",
              " ('database]', 1),\n",
              " ('https:', 1),\n",
              " ('en', 1),\n",
              " ('wikipedia', 1),\n",
              " ('org', 1),\n",
              " ('wiki', 1),\n",
              " ('MNIST', 1),\n",
              " ('database', 1),\n",
              " ('which', 1),\n",
              " ('is', 1),\n",
              " ('described', 1),\n",
              " ('at:', 1),\n",
              " ('http:', 1),\n",
              " ('yann', 1),\n",
              " ('lecun', 1),\n",
              " ('com', 1),\n",
              " ('exdb', 1),\n",
              " ('mnist', 1),\n",
              " ('`anscombe', 1),\n",
              " ('json`', 1),\n",
              " ('contains', 1),\n",
              " ('a', 1),\n",
              " ('copy', 1),\n",
              " ('of', 1),\n",
              " (\"[Anscombe's\", 1),\n",
              " ('quartet]', 1),\n",
              " ('https:', 1),\n",
              " ('en', 1),\n",
              " ('wikipedia', 1),\n",
              " ('org', 1),\n",
              " ('wiki', 1),\n",
              " ('Anscombe%27s', 1),\n",
              " ('quartet', 1),\n",
              " ('it', 1),\n",
              " ('was', 1),\n",
              " ('originally', 1),\n",
              " ('described', 1),\n",
              " ('in', 1),\n",
              " ('Anscombe', 1),\n",
              " ('F', 1),\n",
              " ('J', 1),\n",
              " ('1973', 1),\n",
              " (\"'Graphs\", 1),\n",
              " ('in', 1),\n",
              " ('Statistical', 1),\n",
              " (\"Analysis'\", 1),\n",
              " ('American', 1),\n",
              " ('Statistician', 1),\n",
              " ('27', 1),\n",
              " ('1', 1),\n",
              " (':', 1),\n",
              " ('17', 1),\n",
              " ('21', 1),\n",
              " ('JSTOR', 1),\n",
              " ('2682899', 1),\n",
              " ('and', 1),\n",
              " ('our', 1),\n",
              " ('copy', 1),\n",
              " ('was', 1),\n",
              " ('prepared', 1),\n",
              " ('by', 1),\n",
              " ('the', 1),\n",
              " ('[vega', 1),\n",
              " ('datasets', 1),\n",
              " ('library]', 1),\n",
              " ('https:', 1),\n",
              " ('github', 1),\n",
              " ('com', 1),\n",
              " ('altair', 1),\n",
              " ('viz', 1),\n",
              " ('vega', 1),\n",
              " ('datasets', 1),\n",
              " ('blob', 1),\n",
              " ('4f67bdaad10f45e3549984e17e1b3088c731503d', 1),\n",
              " ('vega', 1),\n",
              " ('datasets', 1),\n",
              " ('data', 1),\n",
              " ('anscombe', 1),\n",
              " ('json', 1)]"
            ]
          },
          "metadata": {
            "tags": []
          },
          "execution_count": 217
        }
      ]
    },
    {
      "cell_type": "code",
      "metadata": {
        "collapsed": true,
        "id": "6Ko7mF6e95C4"
      },
      "source": [
        "import functools\r\n",
        "g = list(map(lambda gb: (gb[0], functools.reduce(lambda x,y: x+y, map(lambda t:t[1], gb[1]))),  itertools.groupby(sorted(cle_nombre), key=lambda t:t[0])))\r\n",
        "g"
      ],
      "execution_count": null,
      "outputs": []
    },
    {
      "cell_type": "code",
      "metadata": {
        "id": "OebE1Rxg-S_A"
      },
      "source": [
        "list(gb[0][1])"
      ],
      "execution_count": null,
      "outputs": []
    },
    {
      "cell_type": "code",
      "metadata": {
        "colab": {
          "base_uri": "https://localhost:8080/"
        },
        "id": "zWGGEjsLryaU",
        "outputId": "bf0d8923-53ba-4003-f8e5-96e08ae6e171"
      },
      "source": [
        "d={}\r\n",
        "print(d.get(1))\r\n",
        "d[1]=10\r\n",
        "d.get(1)"
      ],
      "execution_count": null,
      "outputs": [
        {
          "output_type": "stream",
          "text": [
            "None\n"
          ],
          "name": "stdout"
        },
        {
          "output_type": "execute_result",
          "data": {
            "text/plain": [
              "10"
            ]
          },
          "metadata": {
            "tags": []
          },
          "execution_count": 224
        }
      ]
    },
    {
      "cell_type": "code",
      "metadata": {
        "colab": {
          "base_uri": "https://localhost:8080/"
        },
        "id": "UWhjeGqKq78M",
        "outputId": "bb93b6f0-c0b7-4a1e-99f2-122ea91ad8de"
      },
      "source": [
        "d={}\r\n",
        "for cle, valeur in cle_nombre1:\r\n",
        "  deja = d.get(cle)\r\n",
        "  if deja:\r\n",
        "     d[cle] += valeur\r\n",
        "  else:\r\n",
        "    d[cle] = valeur\r\n",
        "d"
      ],
      "execution_count": null,
      "outputs": [
        {
          "output_type": "execute_result",
          "data": {
            "text/plain": [
              "{\"'Graphs\": 1,\n",
              " '1': 1,\n",
              " '17': 1,\n",
              " '1973': 1,\n",
              " '1990': 1,\n",
              " '21': 1,\n",
              " '2682899': 1,\n",
              " '27': 1,\n",
              " '4f67bdaad10f45e3549984e17e1b3088c731503d': 1,\n",
              " ':': 1,\n",
              " 'American': 1,\n",
              " \"Analysis'\": 1,\n",
              " 'Anscombe': 1,\n",
              " 'Anscombe%27s': 1,\n",
              " 'California': 1,\n",
              " 'Census': 1,\n",
              " 'F': 1,\n",
              " 'J': 1,\n",
              " 'JSTOR': 1,\n",
              " 'MNIST': 1,\n",
              " 'Statistical': 1,\n",
              " 'Statistician': 1,\n",
              " 'This': 1,\n",
              " 'US': 1,\n",
              " \"[Anscombe's\": 1,\n",
              " '[MNIST': 1,\n",
              " '[vega': 1,\n",
              " '`anscombe': 1,\n",
              " '`california': 1,\n",
              " '`mnist': 1,\n",
              " 'a': 3,\n",
              " 'altair': 1,\n",
              " 'and': 1,\n",
              " 'anscombe': 1,\n",
              " 'at:': 2,\n",
              " 'available': 1,\n",
              " 'blob': 1,\n",
              " 'by': 1,\n",
              " 'california': 1,\n",
              " 'com': 3,\n",
              " 'contains': 1,\n",
              " 'copy': 2,\n",
              " 'course': 1,\n",
              " 'crash': 1,\n",
              " 'csv`': 2,\n",
              " 'data': 4,\n",
              " 'database': 1,\n",
              " 'database]': 1,\n",
              " 'datasets': 4,\n",
              " 'described': 2,\n",
              " 'description': 1,\n",
              " 'developers': 1,\n",
              " 'directory': 1,\n",
              " 'en': 2,\n",
              " 'exdb': 1,\n",
              " 'few': 1,\n",
              " 'from': 1,\n",
              " 'get': 1,\n",
              " 'github': 1,\n",
              " 'google': 1,\n",
              " 'housing': 3,\n",
              " 'http:': 1,\n",
              " 'https:': 4,\n",
              " 'in': 2,\n",
              " 'includes': 1,\n",
              " 'information': 1,\n",
              " 'is': 4,\n",
              " 'it': 1,\n",
              " 'json': 1,\n",
              " 'json`': 1,\n",
              " 'learning': 1,\n",
              " 'lecun': 1,\n",
              " 'library]': 1,\n",
              " 'machine': 1,\n",
              " 'mnist': 1,\n",
              " 'more': 1,\n",
              " 'of': 2,\n",
              " 'org': 2,\n",
              " 'originally': 1,\n",
              " 'our': 1,\n",
              " 'prepared': 1,\n",
              " 'quartet': 1,\n",
              " 'quartet]': 1,\n",
              " 'sample': 2,\n",
              " 'small': 1,\n",
              " 'started': 1,\n",
              " 'the': 3,\n",
              " 'to': 1,\n",
              " 'vega': 2,\n",
              " 'viz': 1,\n",
              " 'was': 2,\n",
              " 'which': 1,\n",
              " 'wiki': 2,\n",
              " 'wikipedia': 2,\n",
              " 'yann': 1,\n",
              " 'you': 1}"
            ]
          },
          "metadata": {
            "tags": []
          },
          "execution_count": 225
        }
      ]
    },
    {
      "cell_type": "code",
      "metadata": {
        "id": "gCAvlF-KCVAh"
      },
      "source": [
        "from itertools import groupby\r\n",
        "\r\n",
        "things = [(\"animal\", \"bear\"), (\"animal\", \"duck\"), (\"plant\", \"cactus\"), (\"vehicle\", \"speed boat\"), (\"vehicle\", \"school bus\")]\r\n",
        "\r\n",
        "for key, group in groupby(things, lambda x: x[0]):\r\n",
        "      print(key, list(group))"
      ],
      "execution_count": null,
      "outputs": []
    }
  ]
}